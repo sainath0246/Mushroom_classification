{
 "cells": [
  {
   "cell_type": "code",
   "execution_count": 1,
   "id": "75e9722e",
   "metadata": {},
   "outputs": [],
   "source": [
    "import pandas as pd\n",
    "import numpy as np\n"
   ]
  },
  {
   "cell_type": "code",
   "execution_count": 2,
   "id": "3bf8cc7b",
   "metadata": {},
   "outputs": [],
   "source": [
    "import os"
   ]
  },
  {
   "cell_type": "code",
   "execution_count": 3,
   "id": "257c9683",
   "metadata": {},
   "outputs": [
    {
     "data": {
      "text/plain": [
       "'C:\\\\Users\\\\91900'"
      ]
     },
     "execution_count": 3,
     "metadata": {},
     "output_type": "execute_result"
    }
   ],
   "source": [
    "os.getcwd()"
   ]
  },
  {
   "cell_type": "code",
   "execution_count": 4,
   "id": "22191fbe",
   "metadata": {},
   "outputs": [],
   "source": [
    "os.chdir(r'H:\\Mushrooms data')"
   ]
  },
  {
   "cell_type": "code",
   "execution_count": 5,
   "id": "c1afe21e",
   "metadata": {},
   "outputs": [
    {
     "data": {
      "text/plain": [
       "'H:\\\\Mushrooms data'"
      ]
     },
     "execution_count": 5,
     "metadata": {},
     "output_type": "execute_result"
    }
   ],
   "source": [
    "os.getcwd()"
   ]
  },
  {
   "cell_type": "code",
   "execution_count": 6,
   "id": "f97798d5",
   "metadata": {},
   "outputs": [],
   "source": [
    "df=pd.read_csv('mushrooms.csv')"
   ]
  },
  {
   "cell_type": "code",
   "execution_count": 7,
   "id": "0644071f",
   "metadata": {},
   "outputs": [],
   "source": [
    "from sklearn.preprocessing import LabelEncoder\n",
    "from sklearn.model_selection import train_test_split"
   ]
  },
  {
   "cell_type": "code",
   "execution_count": 8,
   "id": "2799440e",
   "metadata": {},
   "outputs": [
    {
     "data": {
      "text/html": [
       "<div>\n",
       "<style scoped>\n",
       "    .dataframe tbody tr th:only-of-type {\n",
       "        vertical-align: middle;\n",
       "    }\n",
       "\n",
       "    .dataframe tbody tr th {\n",
       "        vertical-align: top;\n",
       "    }\n",
       "\n",
       "    .dataframe thead th {\n",
       "        text-align: right;\n",
       "    }\n",
       "</style>\n",
       "<table border=\"1\" class=\"dataframe\">\n",
       "  <thead>\n",
       "    <tr style=\"text-align: right;\">\n",
       "      <th></th>\n",
       "      <th>class</th>\n",
       "      <th>cap-shape</th>\n",
       "      <th>cap-surface</th>\n",
       "      <th>cap-color</th>\n",
       "      <th>bruises</th>\n",
       "      <th>odor</th>\n",
       "      <th>gill-attachment</th>\n",
       "      <th>gill-spacing</th>\n",
       "      <th>gill-size</th>\n",
       "      <th>gill-color</th>\n",
       "      <th>...</th>\n",
       "      <th>stalk-surface-below-ring</th>\n",
       "      <th>stalk-color-above-ring</th>\n",
       "      <th>stalk-color-below-ring</th>\n",
       "      <th>veil-type</th>\n",
       "      <th>veil-color</th>\n",
       "      <th>ring-number</th>\n",
       "      <th>ring-type</th>\n",
       "      <th>spore-print-color</th>\n",
       "      <th>population</th>\n",
       "      <th>habitat</th>\n",
       "    </tr>\n",
       "  </thead>\n",
       "  <tbody>\n",
       "    <tr>\n",
       "      <th>0</th>\n",
       "      <td>p</td>\n",
       "      <td>x</td>\n",
       "      <td>s</td>\n",
       "      <td>n</td>\n",
       "      <td>t</td>\n",
       "      <td>p</td>\n",
       "      <td>f</td>\n",
       "      <td>c</td>\n",
       "      <td>n</td>\n",
       "      <td>k</td>\n",
       "      <td>...</td>\n",
       "      <td>s</td>\n",
       "      <td>w</td>\n",
       "      <td>w</td>\n",
       "      <td>p</td>\n",
       "      <td>w</td>\n",
       "      <td>o</td>\n",
       "      <td>p</td>\n",
       "      <td>k</td>\n",
       "      <td>s</td>\n",
       "      <td>u</td>\n",
       "    </tr>\n",
       "    <tr>\n",
       "      <th>1</th>\n",
       "      <td>e</td>\n",
       "      <td>x</td>\n",
       "      <td>s</td>\n",
       "      <td>y</td>\n",
       "      <td>t</td>\n",
       "      <td>a</td>\n",
       "      <td>f</td>\n",
       "      <td>c</td>\n",
       "      <td>b</td>\n",
       "      <td>k</td>\n",
       "      <td>...</td>\n",
       "      <td>s</td>\n",
       "      <td>w</td>\n",
       "      <td>w</td>\n",
       "      <td>p</td>\n",
       "      <td>w</td>\n",
       "      <td>o</td>\n",
       "      <td>p</td>\n",
       "      <td>n</td>\n",
       "      <td>n</td>\n",
       "      <td>g</td>\n",
       "    </tr>\n",
       "    <tr>\n",
       "      <th>2</th>\n",
       "      <td>e</td>\n",
       "      <td>b</td>\n",
       "      <td>s</td>\n",
       "      <td>w</td>\n",
       "      <td>t</td>\n",
       "      <td>l</td>\n",
       "      <td>f</td>\n",
       "      <td>c</td>\n",
       "      <td>b</td>\n",
       "      <td>n</td>\n",
       "      <td>...</td>\n",
       "      <td>s</td>\n",
       "      <td>w</td>\n",
       "      <td>w</td>\n",
       "      <td>p</td>\n",
       "      <td>w</td>\n",
       "      <td>o</td>\n",
       "      <td>p</td>\n",
       "      <td>n</td>\n",
       "      <td>n</td>\n",
       "      <td>m</td>\n",
       "    </tr>\n",
       "    <tr>\n",
       "      <th>3</th>\n",
       "      <td>p</td>\n",
       "      <td>x</td>\n",
       "      <td>y</td>\n",
       "      <td>w</td>\n",
       "      <td>t</td>\n",
       "      <td>p</td>\n",
       "      <td>f</td>\n",
       "      <td>c</td>\n",
       "      <td>n</td>\n",
       "      <td>n</td>\n",
       "      <td>...</td>\n",
       "      <td>s</td>\n",
       "      <td>w</td>\n",
       "      <td>w</td>\n",
       "      <td>p</td>\n",
       "      <td>w</td>\n",
       "      <td>o</td>\n",
       "      <td>p</td>\n",
       "      <td>k</td>\n",
       "      <td>s</td>\n",
       "      <td>u</td>\n",
       "    </tr>\n",
       "    <tr>\n",
       "      <th>4</th>\n",
       "      <td>e</td>\n",
       "      <td>x</td>\n",
       "      <td>s</td>\n",
       "      <td>g</td>\n",
       "      <td>f</td>\n",
       "      <td>n</td>\n",
       "      <td>f</td>\n",
       "      <td>w</td>\n",
       "      <td>b</td>\n",
       "      <td>k</td>\n",
       "      <td>...</td>\n",
       "      <td>s</td>\n",
       "      <td>w</td>\n",
       "      <td>w</td>\n",
       "      <td>p</td>\n",
       "      <td>w</td>\n",
       "      <td>o</td>\n",
       "      <td>e</td>\n",
       "      <td>n</td>\n",
       "      <td>a</td>\n",
       "      <td>g</td>\n",
       "    </tr>\n",
       "  </tbody>\n",
       "</table>\n",
       "<p>5 rows × 23 columns</p>\n",
       "</div>"
      ],
      "text/plain": [
       "  class cap-shape cap-surface cap-color bruises odor gill-attachment  \\\n",
       "0     p         x           s         n       t    p               f   \n",
       "1     e         x           s         y       t    a               f   \n",
       "2     e         b           s         w       t    l               f   \n",
       "3     p         x           y         w       t    p               f   \n",
       "4     e         x           s         g       f    n               f   \n",
       "\n",
       "  gill-spacing gill-size gill-color  ... stalk-surface-below-ring  \\\n",
       "0            c         n          k  ...                        s   \n",
       "1            c         b          k  ...                        s   \n",
       "2            c         b          n  ...                        s   \n",
       "3            c         n          n  ...                        s   \n",
       "4            w         b          k  ...                        s   \n",
       "\n",
       "  stalk-color-above-ring stalk-color-below-ring veil-type veil-color  \\\n",
       "0                      w                      w         p          w   \n",
       "1                      w                      w         p          w   \n",
       "2                      w                      w         p          w   \n",
       "3                      w                      w         p          w   \n",
       "4                      w                      w         p          w   \n",
       "\n",
       "  ring-number ring-type spore-print-color population habitat  \n",
       "0           o         p                 k          s       u  \n",
       "1           o         p                 n          n       g  \n",
       "2           o         p                 n          n       m  \n",
       "3           o         p                 k          s       u  \n",
       "4           o         e                 n          a       g  \n",
       "\n",
       "[5 rows x 23 columns]"
      ]
     },
     "execution_count": 8,
     "metadata": {},
     "output_type": "execute_result"
    }
   ],
   "source": [
    "df.head()"
   ]
  },
  {
   "cell_type": "code",
   "execution_count": 9,
   "id": "9655a114",
   "metadata": {},
   "outputs": [
    {
     "data": {
      "text/plain": [
       "(8124, 23)"
      ]
     },
     "execution_count": 9,
     "metadata": {},
     "output_type": "execute_result"
    }
   ],
   "source": [
    "df.shape"
   ]
  },
  {
   "cell_type": "code",
   "execution_count": 11,
   "id": "ea58111c",
   "metadata": {},
   "outputs": [],
   "source": [
    "le=LabelEncoder()"
   ]
  },
  {
   "cell_type": "code",
   "execution_count": 12,
   "id": "b534d997",
   "metadata": {},
   "outputs": [],
   "source": [
    "df_new=df.apply(le.fit_transform,axis=0)"
   ]
  },
  {
   "cell_type": "code",
   "execution_count": 13,
   "id": "db1feae7",
   "metadata": {},
   "outputs": [
    {
     "data": {
      "text/html": [
       "<div>\n",
       "<style scoped>\n",
       "    .dataframe tbody tr th:only-of-type {\n",
       "        vertical-align: middle;\n",
       "    }\n",
       "\n",
       "    .dataframe tbody tr th {\n",
       "        vertical-align: top;\n",
       "    }\n",
       "\n",
       "    .dataframe thead th {\n",
       "        text-align: right;\n",
       "    }\n",
       "</style>\n",
       "<table border=\"1\" class=\"dataframe\">\n",
       "  <thead>\n",
       "    <tr style=\"text-align: right;\">\n",
       "      <th></th>\n",
       "      <th>class</th>\n",
       "      <th>cap-shape</th>\n",
       "      <th>cap-surface</th>\n",
       "      <th>cap-color</th>\n",
       "      <th>bruises</th>\n",
       "      <th>odor</th>\n",
       "      <th>gill-attachment</th>\n",
       "      <th>gill-spacing</th>\n",
       "      <th>gill-size</th>\n",
       "      <th>gill-color</th>\n",
       "      <th>...</th>\n",
       "      <th>stalk-surface-below-ring</th>\n",
       "      <th>stalk-color-above-ring</th>\n",
       "      <th>stalk-color-below-ring</th>\n",
       "      <th>veil-type</th>\n",
       "      <th>veil-color</th>\n",
       "      <th>ring-number</th>\n",
       "      <th>ring-type</th>\n",
       "      <th>spore-print-color</th>\n",
       "      <th>population</th>\n",
       "      <th>habitat</th>\n",
       "    </tr>\n",
       "  </thead>\n",
       "  <tbody>\n",
       "    <tr>\n",
       "      <th>0</th>\n",
       "      <td>1</td>\n",
       "      <td>5</td>\n",
       "      <td>2</td>\n",
       "      <td>4</td>\n",
       "      <td>1</td>\n",
       "      <td>6</td>\n",
       "      <td>1</td>\n",
       "      <td>0</td>\n",
       "      <td>1</td>\n",
       "      <td>4</td>\n",
       "      <td>...</td>\n",
       "      <td>2</td>\n",
       "      <td>7</td>\n",
       "      <td>7</td>\n",
       "      <td>0</td>\n",
       "      <td>2</td>\n",
       "      <td>1</td>\n",
       "      <td>4</td>\n",
       "      <td>2</td>\n",
       "      <td>3</td>\n",
       "      <td>5</td>\n",
       "    </tr>\n",
       "    <tr>\n",
       "      <th>1</th>\n",
       "      <td>0</td>\n",
       "      <td>5</td>\n",
       "      <td>2</td>\n",
       "      <td>9</td>\n",
       "      <td>1</td>\n",
       "      <td>0</td>\n",
       "      <td>1</td>\n",
       "      <td>0</td>\n",
       "      <td>0</td>\n",
       "      <td>4</td>\n",
       "      <td>...</td>\n",
       "      <td>2</td>\n",
       "      <td>7</td>\n",
       "      <td>7</td>\n",
       "      <td>0</td>\n",
       "      <td>2</td>\n",
       "      <td>1</td>\n",
       "      <td>4</td>\n",
       "      <td>3</td>\n",
       "      <td>2</td>\n",
       "      <td>1</td>\n",
       "    </tr>\n",
       "    <tr>\n",
       "      <th>2</th>\n",
       "      <td>0</td>\n",
       "      <td>0</td>\n",
       "      <td>2</td>\n",
       "      <td>8</td>\n",
       "      <td>1</td>\n",
       "      <td>3</td>\n",
       "      <td>1</td>\n",
       "      <td>0</td>\n",
       "      <td>0</td>\n",
       "      <td>5</td>\n",
       "      <td>...</td>\n",
       "      <td>2</td>\n",
       "      <td>7</td>\n",
       "      <td>7</td>\n",
       "      <td>0</td>\n",
       "      <td>2</td>\n",
       "      <td>1</td>\n",
       "      <td>4</td>\n",
       "      <td>3</td>\n",
       "      <td>2</td>\n",
       "      <td>3</td>\n",
       "    </tr>\n",
       "    <tr>\n",
       "      <th>3</th>\n",
       "      <td>1</td>\n",
       "      <td>5</td>\n",
       "      <td>3</td>\n",
       "      <td>8</td>\n",
       "      <td>1</td>\n",
       "      <td>6</td>\n",
       "      <td>1</td>\n",
       "      <td>0</td>\n",
       "      <td>1</td>\n",
       "      <td>5</td>\n",
       "      <td>...</td>\n",
       "      <td>2</td>\n",
       "      <td>7</td>\n",
       "      <td>7</td>\n",
       "      <td>0</td>\n",
       "      <td>2</td>\n",
       "      <td>1</td>\n",
       "      <td>4</td>\n",
       "      <td>2</td>\n",
       "      <td>3</td>\n",
       "      <td>5</td>\n",
       "    </tr>\n",
       "    <tr>\n",
       "      <th>4</th>\n",
       "      <td>0</td>\n",
       "      <td>5</td>\n",
       "      <td>2</td>\n",
       "      <td>3</td>\n",
       "      <td>0</td>\n",
       "      <td>5</td>\n",
       "      <td>1</td>\n",
       "      <td>1</td>\n",
       "      <td>0</td>\n",
       "      <td>4</td>\n",
       "      <td>...</td>\n",
       "      <td>2</td>\n",
       "      <td>7</td>\n",
       "      <td>7</td>\n",
       "      <td>0</td>\n",
       "      <td>2</td>\n",
       "      <td>1</td>\n",
       "      <td>0</td>\n",
       "      <td>3</td>\n",
       "      <td>0</td>\n",
       "      <td>1</td>\n",
       "    </tr>\n",
       "  </tbody>\n",
       "</table>\n",
       "<p>5 rows × 23 columns</p>\n",
       "</div>"
      ],
      "text/plain": [
       "   class  cap-shape  cap-surface  cap-color  bruises  odor  gill-attachment  \\\n",
       "0      1          5            2          4        1     6                1   \n",
       "1      0          5            2          9        1     0                1   \n",
       "2      0          0            2          8        1     3                1   \n",
       "3      1          5            3          8        1     6                1   \n",
       "4      0          5            2          3        0     5                1   \n",
       "\n",
       "   gill-spacing  gill-size  gill-color  ...  stalk-surface-below-ring  \\\n",
       "0             0          1           4  ...                         2   \n",
       "1             0          0           4  ...                         2   \n",
       "2             0          0           5  ...                         2   \n",
       "3             0          1           5  ...                         2   \n",
       "4             1          0           4  ...                         2   \n",
       "\n",
       "   stalk-color-above-ring  stalk-color-below-ring  veil-type  veil-color  \\\n",
       "0                       7                       7          0           2   \n",
       "1                       7                       7          0           2   \n",
       "2                       7                       7          0           2   \n",
       "3                       7                       7          0           2   \n",
       "4                       7                       7          0           2   \n",
       "\n",
       "   ring-number  ring-type  spore-print-color  population  habitat  \n",
       "0            1          4                  2           3        5  \n",
       "1            1          4                  3           2        1  \n",
       "2            1          4                  3           2        3  \n",
       "3            1          4                  2           3        5  \n",
       "4            1          0                  3           0        1  \n",
       "\n",
       "[5 rows x 23 columns]"
      ]
     },
     "execution_count": 13,
     "metadata": {},
     "output_type": "execute_result"
    }
   ],
   "source": [
    "df_new.head()"
   ]
  },
  {
   "cell_type": "code",
   "execution_count": 62,
   "id": "1695bdaf",
   "metadata": {},
   "outputs": [],
   "source": [
    "Y=df_new['class']\n",
    "X=df_new.drop('class',axis=1)"
   ]
  },
  {
   "cell_type": "code",
   "execution_count": 63,
   "id": "941e8288",
   "metadata": {},
   "outputs": [
    {
     "data": {
      "text/plain": [
       "(8124,)"
      ]
     },
     "execution_count": 63,
     "metadata": {},
     "output_type": "execute_result"
    }
   ],
   "source": [
    "Y.shape"
   ]
  },
  {
   "cell_type": "code",
   "execution_count": 64,
   "id": "c2f0f86b",
   "metadata": {},
   "outputs": [
    {
     "data": {
      "text/plain": [
       "(8124, 22)"
      ]
     },
     "execution_count": 64,
     "metadata": {},
     "output_type": "execute_result"
    }
   ],
   "source": [
    "X.shape"
   ]
  },
  {
   "cell_type": "code",
   "execution_count": 65,
   "id": "4a3035f6",
   "metadata": {},
   "outputs": [],
   "source": [
    "X_train=X[:int(0.8*len(X))]\n",
    "Y_train=Y[:int(0.8*len(Y))]\n",
    "X_test=X[int(0.8*len(X)):len(X)]\n",
    "Y_test=Y[int(0.8*len(X)):len(X)]\n"
   ]
  },
  {
   "cell_type": "code",
   "execution_count": 66,
   "id": "ea6f26ea",
   "metadata": {},
   "outputs": [
    {
     "data": {
      "text/plain": [
       "((6499, 22), (6499,))"
      ]
     },
     "execution_count": 66,
     "metadata": {},
     "output_type": "execute_result"
    }
   ],
   "source": [
    "X_train.shape,Y_train.shape"
   ]
  },
  {
   "cell_type": "code",
   "execution_count": 67,
   "id": "ca7f844c",
   "metadata": {},
   "outputs": [
    {
     "data": {
      "text/plain": [
       "((1625, 22), (1625,))"
      ]
     },
     "execution_count": 67,
     "metadata": {},
     "output_type": "execute_result"
    }
   ],
   "source": [
    "X_test.shape,Y_test.shape"
   ]
  },
  {
   "cell_type": "code",
   "execution_count": 68,
   "id": "a9dd6624",
   "metadata": {},
   "outputs": [],
   "source": [
    "import tensorflow as tf"
   ]
  },
  {
   "cell_type": "code",
   "execution_count": 69,
   "id": "a4a1dac5",
   "metadata": {},
   "outputs": [],
   "source": [
    "#Set random_seed\n",
    "tf.random.set_seed(42)"
   ]
  },
  {
   "cell_type": "code",
   "execution_count": 153,
   "id": "c7ff88ed",
   "metadata": {},
   "outputs": [],
   "source": [
    "#create a model\n",
    "model=tf.keras.Sequential([tf.keras.layers.Dense(100,activation='relu'),\n",
    "                          tf.keras.layers.Dense(50,activation='relu'),\n",
    "                          tf.keras.layers.Dense(1,activation='sigmoid')])\n",
    "model.compile(loss='binary_crossentropy',optimizer=\"Adam\",metrics='accuracy')\n"
   ]
  },
  {
   "cell_type": "code",
   "execution_count": 154,
   "id": "e1145072",
   "metadata": {},
   "outputs": [
    {
     "name": "stdout",
     "output_type": "stream",
     "text": [
      "Epoch 1/100\n",
      "204/204 [==============================] - 1s 2ms/step - loss: 0.3241 - accuracy: 0.8695\n",
      "Epoch 2/100\n",
      "204/204 [==============================] - 0s 2ms/step - loss: 0.1037 - accuracy: 0.9651\n",
      "Epoch 3/100\n",
      "204/204 [==============================] - 0s 2ms/step - loss: 0.0394 - accuracy: 0.9920\n",
      "Epoch 4/100\n",
      "204/204 [==============================] - 0s 2ms/step - loss: 0.0178 - accuracy: 0.9980\n",
      "Epoch 5/100\n",
      "204/204 [==============================] - 0s 2ms/step - loss: 0.0102 - accuracy: 0.9985\n",
      "Epoch 6/100\n",
      "204/204 [==============================] - 0s 2ms/step - loss: 0.0058 - accuracy: 0.9994\n",
      "Epoch 7/100\n",
      "204/204 [==============================] - 0s 2ms/step - loss: 0.0042 - accuracy: 0.9992\n",
      "Epoch 8/100\n",
      "204/204 [==============================] - 0s 2ms/step - loss: 0.0023 - accuracy: 0.9998\n",
      "Epoch 9/100\n",
      "204/204 [==============================] - 0s 2ms/step - loss: 0.0035 - accuracy: 0.9988\n",
      "Epoch 10/100\n",
      "204/204 [==============================] - 0s 2ms/step - loss: 0.0026 - accuracy: 0.9997\n",
      "Epoch 11/100\n",
      "204/204 [==============================] - 0s 2ms/step - loss: 8.2670e-04 - accuracy: 1.0000\n",
      "Epoch 12/100\n",
      "204/204 [==============================] - 0s 2ms/step - loss: 6.4159e-04 - accuracy: 1.0000\n",
      "Epoch 13/100\n",
      "204/204 [==============================] - 0s 2ms/step - loss: 5.0741e-04 - accuracy: 1.0000\n",
      "Epoch 14/100\n",
      "204/204 [==============================] - 0s 2ms/step - loss: 3.8581e-04 - accuracy: 1.0000\n",
      "Epoch 15/100\n",
      "204/204 [==============================] - 0s 2ms/step - loss: 6.3681e-04 - accuracy: 1.0000\n",
      "Epoch 16/100\n",
      "204/204 [==============================] - 0s 2ms/step - loss: 0.0013 - accuracy: 0.9997\n",
      "Epoch 17/100\n",
      "204/204 [==============================] - 0s 2ms/step - loss: 0.0021 - accuracy: 0.9991\n",
      "Epoch 18/100\n",
      "204/204 [==============================] - 0s 2ms/step - loss: 5.3860e-04 - accuracy: 1.0000\n",
      "Epoch 19/100\n",
      "204/204 [==============================] - 0s 2ms/step - loss: 1.7477e-04 - accuracy: 1.0000\n",
      "Epoch 20/100\n",
      "204/204 [==============================] - 0s 2ms/step - loss: 1.2867e-04 - accuracy: 1.0000\n",
      "Epoch 21/100\n",
      "204/204 [==============================] - 0s 2ms/step - loss: 1.0663e-04 - accuracy: 1.0000\n",
      "Epoch 22/100\n",
      "204/204 [==============================] - 0s 2ms/step - loss: 9.2530e-05 - accuracy: 1.0000\n",
      "Epoch 23/100\n",
      "204/204 [==============================] - 0s 2ms/step - loss: 8.1652e-05 - accuracy: 1.0000\n",
      "Epoch 24/100\n",
      "204/204 [==============================] - 0s 2ms/step - loss: 7.1906e-05 - accuracy: 1.0000\n",
      "Epoch 25/100\n",
      "204/204 [==============================] - 0s 2ms/step - loss: 6.5825e-05 - accuracy: 1.0000\n",
      "Epoch 26/100\n",
      "204/204 [==============================] - 0s 2ms/step - loss: 5.6042e-05 - accuracy: 1.0000\n",
      "Epoch 27/100\n",
      "204/204 [==============================] - 0s 2ms/step - loss: 5.0422e-05 - accuracy: 1.0000\n",
      "Epoch 28/100\n",
      "204/204 [==============================] - 0s 2ms/step - loss: 4.7419e-05 - accuracy: 1.0000\n",
      "Epoch 29/100\n",
      "204/204 [==============================] - 0s 2ms/step - loss: 4.2795e-05 - accuracy: 1.0000\n",
      "Epoch 30/100\n",
      "204/204 [==============================] - 0s 2ms/step - loss: 3.8241e-05 - accuracy: 1.0000\n",
      "Epoch 31/100\n",
      "204/204 [==============================] - 0s 2ms/step - loss: 3.3931e-05 - accuracy: 1.0000\n",
      "Epoch 32/100\n",
      "204/204 [==============================] - 0s 2ms/step - loss: 3.0573e-05 - accuracy: 1.0000\n",
      "Epoch 33/100\n",
      "204/204 [==============================] - 0s 2ms/step - loss: 2.7122e-05 - accuracy: 1.0000\n",
      "Epoch 34/100\n",
      "204/204 [==============================] - 0s 2ms/step - loss: 2.5885e-05 - accuracy: 1.0000\n",
      "Epoch 35/100\n",
      "204/204 [==============================] - 0s 2ms/step - loss: 2.5514e-05 - accuracy: 1.0000\n",
      "Epoch 36/100\n",
      "204/204 [==============================] - 0s 2ms/step - loss: 1.8724e-05 - accuracy: 1.0000\n",
      "Epoch 37/100\n",
      "204/204 [==============================] - 0s 2ms/step - loss: 1.8295e-05 - accuracy: 1.0000\n",
      "Epoch 38/100\n",
      "204/204 [==============================] - 0s 2ms/step - loss: 1.5034e-05 - accuracy: 1.0000\n",
      "Epoch 39/100\n",
      "204/204 [==============================] - 0s 2ms/step - loss: 1.3736e-05 - accuracy: 1.0000\n",
      "Epoch 40/100\n",
      "204/204 [==============================] - 0s 2ms/step - loss: 1.3162e-05 - accuracy: 1.0000\n",
      "Epoch 41/100\n",
      "204/204 [==============================] - 0s 2ms/step - loss: 1.0976e-05 - accuracy: 1.0000\n",
      "Epoch 42/100\n",
      "204/204 [==============================] - 0s 2ms/step - loss: 1.0296e-05 - accuracy: 1.0000\n",
      "Epoch 43/100\n",
      "204/204 [==============================] - 0s 2ms/step - loss: 9.1155e-06 - accuracy: 1.0000\n",
      "Epoch 44/100\n",
      "204/204 [==============================] - 0s 2ms/step - loss: 1.3293e-05 - accuracy: 1.0000\n",
      "Epoch 45/100\n",
      "204/204 [==============================] - 0s 2ms/step - loss: 6.4190e-06 - accuracy: 1.0000\n",
      "Epoch 46/100\n",
      "204/204 [==============================] - 0s 2ms/step - loss: 5.5194e-06 - accuracy: 1.0000\n",
      "Epoch 47/100\n",
      "204/204 [==============================] - 0s 2ms/step - loss: 5.2455e-06 - accuracy: 1.0000\n",
      "Epoch 48/100\n",
      "204/204 [==============================] - 0s 2ms/step - loss: 4.0424e-06 - accuracy: 1.0000\n",
      "Epoch 49/100\n",
      "204/204 [==============================] - 0s 2ms/step - loss: 3.4752e-06 - accuracy: 1.0000\n",
      "Epoch 50/100\n",
      "204/204 [==============================] - 0s 2ms/step - loss: 3.0954e-06 - accuracy: 1.0000\n",
      "Epoch 51/100\n",
      "204/204 [==============================] - 0s 2ms/step - loss: 2.7693e-06 - accuracy: 1.0000\n",
      "Epoch 52/100\n",
      "204/204 [==============================] - 0s 2ms/step - loss: 2.3517e-06 - accuracy: 1.0000\n",
      "Epoch 53/100\n",
      "204/204 [==============================] - 0s 2ms/step - loss: 2.1392e-06 - accuracy: 1.0000\n",
      "Epoch 54/100\n",
      "204/204 [==============================] - 0s 2ms/step - loss: 1.8001e-06 - accuracy: 1.0000\n",
      "Epoch 55/100\n",
      "204/204 [==============================] - 0s 2ms/step - loss: 1.6191e-06 - accuracy: 1.0000\n",
      "Epoch 56/100\n",
      "204/204 [==============================] - 0s 2ms/step - loss: 2.0554e-06 - accuracy: 1.0000\n",
      "Epoch 57/100\n",
      "204/204 [==============================] - 0s 2ms/step - loss: 1.8372e-06 - accuracy: 1.0000\n",
      "Epoch 58/100\n",
      "204/204 [==============================] - 0s 2ms/step - loss: 1.2185e-06 - accuracy: 1.0000\n",
      "Epoch 59/100\n",
      "204/204 [==============================] - 0s 2ms/step - loss: 1.0105e-06 - accuracy: 1.0000\n",
      "Epoch 60/100\n",
      "204/204 [==============================] - 0s 2ms/step - loss: 8.6845e-07 - accuracy: 1.0000\n",
      "Epoch 61/100\n",
      "204/204 [==============================] - 0s 2ms/step - loss: 8.0099e-07 - accuracy: 1.0000\n",
      "Epoch 62/100\n",
      "204/204 [==============================] - 0s 2ms/step - loss: 7.2406e-07 - accuracy: 1.0000\n",
      "Epoch 63/100\n",
      "204/204 [==============================] - 0s 2ms/step - loss: 6.8417e-07 - accuracy: 1.0000\n",
      "Epoch 64/100\n",
      "204/204 [==============================] - 0s 2ms/step - loss: 6.1917e-07 - accuracy: 1.0000\n",
      "Epoch 65/100\n",
      "204/204 [==============================] - 0s 2ms/step - loss: 5.2813e-07 - accuracy: 1.0000\n",
      "Epoch 66/100\n",
      "204/204 [==============================] - 0s 2ms/step - loss: 4.3176e-07 - accuracy: 1.0000\n",
      "Epoch 67/100\n",
      "204/204 [==============================] - 0s 2ms/step - loss: 3.6887e-07 - accuracy: 1.0000\n",
      "Epoch 68/100\n",
      "204/204 [==============================] - 0s 2ms/step - loss: 4.8798e-07 - accuracy: 1.0000\n",
      "Epoch 69/100\n",
      "204/204 [==============================] - 0s 2ms/step - loss: 3.0859e-07 - accuracy: 1.0000\n",
      "Epoch 70/100\n",
      "204/204 [==============================] - 0s 2ms/step - loss: 2.8098e-07 - accuracy: 1.0000\n",
      "Epoch 71/100\n",
      "204/204 [==============================] - 0s 2ms/step - loss: 2.6242e-07 - accuracy: 1.0000\n",
      "Epoch 72/100\n",
      "204/204 [==============================] - 0s 2ms/step - loss: 2.1861e-07 - accuracy: 1.0000\n",
      "Epoch 73/100\n",
      "204/204 [==============================] - 0s 2ms/step - loss: 2.4866e-07 - accuracy: 1.0000\n",
      "Epoch 74/100\n",
      "204/204 [==============================] - 0s 2ms/step - loss: 1.7270e-07 - accuracy: 1.0000\n",
      "Epoch 75/100\n",
      "204/204 [==============================] - 0s 2ms/step - loss: 1.7149e-07 - accuracy: 1.0000\n",
      "Epoch 76/100\n",
      "204/204 [==============================] - 0s 2ms/step - loss: 1.3004e-07 - accuracy: 1.0000\n",
      "Epoch 77/100\n",
      "204/204 [==============================] - 0s 2ms/step - loss: 1.4237e-07 - accuracy: 1.0000\n",
      "Epoch 78/100\n"
     ]
    },
    {
     "name": "stdout",
     "output_type": "stream",
     "text": [
      "204/204 [==============================] - 0s 2ms/step - loss: 1.0574e-07 - accuracy: 1.0000\n",
      "Epoch 79/100\n",
      "204/204 [==============================] - 0s 2ms/step - loss: 1.5542e-07 - accuracy: 1.0000\n",
      "Epoch 80/100\n",
      "204/204 [==============================] - 0s 2ms/step - loss: 8.8333e-08 - accuracy: 1.0000\n",
      "Epoch 81/100\n",
      "204/204 [==============================] - 0s 2ms/step - loss: 7.2936e-08 - accuracy: 1.0000\n",
      "Epoch 82/100\n",
      "204/204 [==============================] - 0s 2ms/step - loss: 6.9152e-08 - accuracy: 1.0000\n",
      "Epoch 83/100\n",
      "204/204 [==============================] - 0s 2ms/step - loss: 6.4860e-08 - accuracy: 1.0000\n",
      "Epoch 84/100\n",
      "204/204 [==============================] - 0s 2ms/step - loss: 5.7908e-08 - accuracy: 1.0000\n",
      "Epoch 85/100\n",
      "204/204 [==============================] - 0s 2ms/step - loss: 0.0163 - accuracy: 0.9965\n",
      "Epoch 86/100\n",
      "204/204 [==============================] - 0s 2ms/step - loss: 4.3136e-05 - accuracy: 1.0000\n",
      "Epoch 87/100\n",
      "204/204 [==============================] - 0s 2ms/step - loss: 2.0693e-05 - accuracy: 1.0000\n",
      "Epoch 88/100\n",
      "204/204 [==============================] - 0s 2ms/step - loss: 1.5544e-05 - accuracy: 1.0000\n",
      "Epoch 89/100\n",
      "204/204 [==============================] - 0s 2ms/step - loss: 1.2710e-05 - accuracy: 1.0000\n",
      "Epoch 90/100\n",
      "204/204 [==============================] - 0s 2ms/step - loss: 1.0894e-05 - accuracy: 1.0000\n",
      "Epoch 91/100\n",
      "204/204 [==============================] - 0s 2ms/step - loss: 9.5595e-06 - accuracy: 1.0000\n",
      "Epoch 92/100\n",
      "204/204 [==============================] - 0s 2ms/step - loss: 8.4712e-06 - accuracy: 1.0000\n",
      "Epoch 93/100\n",
      "204/204 [==============================] - 0s 2ms/step - loss: 7.5063e-06 - accuracy: 1.0000\n",
      "Epoch 94/100\n",
      "204/204 [==============================] - 0s 2ms/step - loss: 6.6441e-06 - accuracy: 1.0000\n",
      "Epoch 95/100\n",
      "204/204 [==============================] - 0s 2ms/step - loss: 5.9766e-06 - accuracy: 1.0000\n",
      "Epoch 96/100\n",
      "204/204 [==============================] - 0s 2ms/step - loss: 5.4135e-06 - accuracy: 1.0000\n",
      "Epoch 97/100\n",
      "204/204 [==============================] - 0s 2ms/step - loss: 4.9025e-06 - accuracy: 1.0000\n",
      "Epoch 98/100\n",
      "204/204 [==============================] - 0s 2ms/step - loss: 4.4286e-06 - accuracy: 1.0000\n",
      "Epoch 99/100\n",
      "204/204 [==============================] - 0s 2ms/step - loss: 4.0547e-06 - accuracy: 1.0000\n",
      "Epoch 100/100\n",
      "204/204 [==============================] - 0s 2ms/step - loss: 3.7291e-06 - accuracy: 1.0000\n"
     ]
    },
    {
     "data": {
      "text/plain": [
       "<keras.callbacks.History at 0x25c66183490>"
      ]
     },
     "execution_count": 154,
     "metadata": {},
     "output_type": "execute_result"
    }
   ],
   "source": [
    "model.fit(X_train,Y_train,epochs=100)"
   ]
  },
  {
   "cell_type": "code",
   "execution_count": 156,
   "id": "5a623b2b",
   "metadata": {},
   "outputs": [
    {
     "name": "stdout",
     "output_type": "stream",
     "text": [
      "51/51 [==============================] - 0s 2ms/step - loss: 0.1240 - accuracy: 0.9760\n"
     ]
    },
    {
     "data": {
      "text/plain": [
       "[0.12398737668991089, 0.9760000109672546]"
      ]
     },
     "execution_count": 156,
     "metadata": {},
     "output_type": "execute_result"
    }
   ],
   "source": [
    "model.evaluate(X_test,Y_test)"
   ]
  },
  {
   "cell_type": "code",
   "execution_count": 157,
   "id": "dafa91d7",
   "metadata": {},
   "outputs": [
    {
     "name": "stdout",
     "output_type": "stream",
     "text": [
      "51/51 [==============================] - 0s 1ms/step\n"
     ]
    }
   ],
   "source": [
    "Y_pred=model.predict(X_test)"
   ]
  },
  {
   "cell_type": "code",
   "execution_count": 158,
   "id": "c98ab408",
   "metadata": {},
   "outputs": [
    {
     "data": {
      "text/plain": [
       "array([[1.0000000e+00],\n",
       "       [1.0000000e+00],\n",
       "       [1.0000000e+00],\n",
       "       ...,\n",
       "       [4.6296897e-03],\n",
       "       [1.0000000e+00],\n",
       "       [3.1070618e-04]], dtype=float32)"
      ]
     },
     "execution_count": 158,
     "metadata": {},
     "output_type": "execute_result"
    }
   ],
   "source": [
    "Y_pred"
   ]
  },
  {
   "cell_type": "code",
   "execution_count": 159,
   "id": "13a4a7b8",
   "metadata": {},
   "outputs": [],
   "source": [
    "Y_pred_new=np.squeeze(Y_pred)"
   ]
  },
  {
   "cell_type": "code",
   "execution_count": 160,
   "id": "6c2190af",
   "metadata": {},
   "outputs": [
    {
     "data": {
      "text/plain": [
       "array([1.0000000e+00, 1.0000000e+00, 1.0000000e+00, ..., 4.6296897e-03,\n",
       "       1.0000000e+00, 3.1070618e-04], dtype=float32)"
      ]
     },
     "execution_count": 160,
     "metadata": {},
     "output_type": "execute_result"
    }
   ],
   "source": [
    "Y_pred_new"
   ]
  },
  {
   "cell_type": "code",
   "execution_count": 161,
   "id": "97927b29",
   "metadata": {},
   "outputs": [
    {
     "data": {
      "text/plain": [
       "1625"
      ]
     },
     "execution_count": 161,
     "metadata": {},
     "output_type": "execute_result"
    }
   ],
   "source": [
    "len(Y_pred_new)"
   ]
  },
  {
   "cell_type": "code",
   "execution_count": 162,
   "id": "fbf7bb23",
   "metadata": {},
   "outputs": [],
   "source": [
    "Y_pred_mod=[]\n",
    "for i in range(len(Y_pred_new)):\n",
    "    if(Y_pred_new[i]>0.5):\n",
    "        Y_pred_mod.append(1)\n",
    "    else:\n",
    "        Y_pred_mod.append(0)"
   ]
  },
  {
   "cell_type": "code",
   "execution_count": 163,
   "id": "b5262c60",
   "metadata": {},
   "outputs": [],
   "source": [
    "Y_pred_n=np.array(Y_pred_mod)"
   ]
  },
  {
   "cell_type": "code",
   "execution_count": 164,
   "id": "d3d42fa3",
   "metadata": {},
   "outputs": [],
   "source": [
    "from sklearn.metrics import confusion_matrix,ConfusionMatrixDisplay"
   ]
  },
  {
   "cell_type": "code",
   "execution_count": 165,
   "id": "fed4f64d",
   "metadata": {},
   "outputs": [],
   "source": [
    "cm=confusion_matrix(Y_test,Y_pred_n)"
   ]
  },
  {
   "cell_type": "code",
   "execution_count": 166,
   "id": "ee224dcb",
   "metadata": {},
   "outputs": [
    {
     "data": {
      "text/plain": [
       "array([[ 476,   31],\n",
       "       [   8, 1110]], dtype=int64)"
      ]
     },
     "execution_count": 166,
     "metadata": {},
     "output_type": "execute_result"
    }
   ],
   "source": [
    "cm"
   ]
  },
  {
   "cell_type": "code",
   "execution_count": 167,
   "id": "23785c84",
   "metadata": {},
   "outputs": [],
   "source": [
    "cmd=ConfusionMatrixDisplay(cm,display_labels=['poisonous','Non-poisonous'])"
   ]
  },
  {
   "cell_type": "code",
   "execution_count": 168,
   "id": "e406710e",
   "metadata": {},
   "outputs": [],
   "source": [
    "import matplotlib.pyplot as plt"
   ]
  },
  {
   "cell_type": "code",
   "execution_count": 169,
   "id": "ac27166e",
   "metadata": {},
   "outputs": [
    {
     "data": {
      "text/plain": [
       "<sklearn.metrics._plot.confusion_matrix.ConfusionMatrixDisplay at 0x25c650cbc40>"
      ]
     },
     "execution_count": 169,
     "metadata": {},
     "output_type": "execute_result"
    },
    {
     "data": {
      "image/png": "[encoded data removed]",
      "text/plain": [
       "<Figure size 640x480 with 2 Axes>"
      ]
     },
     "metadata": {},
     "output_type": "display_data"
    }
   ],
   "source": [
    "cmd.plot()"
   ]
  },
  {
   "cell_type": "code",
   "execution_count": 141,
   "id": "cadb0159",
   "metadata": {},
   "outputs": [
    {
     "data": {
      "text/plain": [
       "0    4208\n",
       "1    3916\n",
       "Name: class, dtype: int64"
      ]
     },
     "execution_count": 141,
     "metadata": {},
     "output_type": "execute_result"
    }
   ],
   "source": [
    "df_new['class'].value_counts()"
   ]
  },
  {
   "cell_type": "code",
   "execution_count": null,
   "id": "16e8cbdc",
   "metadata": {},
   "outputs": [],
   "source": []
  }
 ],
 "metadata": {
  "kernelspec": {
   "display_name": "Python 3 (ipykernel)",
   "language": "python",
   "name": "python3"
  },
  "language_info": {
   "codemirror_mode": {
    "name": "ipython",
    "version": 3
   },
   "file_extension": ".py",
   "mimetype": "text/x-python",
   "name": "python",
   "nbconvert_exporter": "python",
   "pygments_lexer": "ipython3",
   "version": "3.9.13"
  }
 },
 "nbformat": 4,
 "nbformat_minor": 5
}
